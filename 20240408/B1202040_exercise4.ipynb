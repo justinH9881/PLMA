{
  "nbformat": 4,
  "nbformat_minor": 0,
  "metadata": {
    "colab": {
      "provenance": []
    },
    "kernelspec": {
      "name": "python3",
      "display_name": "Python 3"
    },
    "language_info": {
      "name": "python"
    }
  },
  "cells": [
    {
      "cell_type": "code",
      "source": [
        "h=float(input(\"輸入身高(cm)：\"))\n",
        "w=float(input(\"輸入體重(kg)：\"))\n",
        "\n",
        "h/=100\n",
        "h*=h\n",
        "\n",
        "BMI=w/h\n",
        "print(\"BMI:\",BMI,\"\")\n",
        "\n",
        "if BMI >= 27:\n",
        "  print('肥胖')\n",
        "elif BMI >= 24:\n",
        "  print('過重')\n",
        "elif BMI >=18.5:\n",
        "  print('適中')\n",
        "else:\n",
        "  print('過輕')"
      ],
      "metadata": {
        "colab": {
          "base_uri": "https://localhost:8080/"
        },
        "id": "bR-mqV8mjzf3",
        "outputId": "913d08ae-af73-4160-8a5a-aa8a20eea945"
      },
      "execution_count": 25,
      "outputs": [
        {
          "output_type": "stream",
          "name": "stdout",
          "text": [
            "輸入身高(cm)：175\n",
            "輸入體重(kg)：66\n",
            "BMI: 21.551020408163264 \n",
            "適中\n"
          ]
        }
      ]
    },
    {
      "cell_type": "code",
      "source": [
        "a = int(input(\"輸入第一個數字:\"))\n",
        "b = input(\"輸入運算符號:\")\n",
        "c = int(input(\"輸入第二個數字:\"))\n",
        "\n",
        "if b == '+':\n",
        "  print(a+c)\n",
        "elif b == '-':\n",
        "  print(a-c)\n",
        "elif b == '*':\n",
        "  print(a*c)\n",
        "elif b == '/':\n",
        "  print(a/c)"
      ],
      "metadata": {
        "id": "ZP1lNW4dikNQ",
        "colab": {
          "base_uri": "https://localhost:8080/"
        },
        "outputId": "6d8307b7-f82f-45b4-d29e-cd0c0ee1ff82"
      },
      "execution_count": 24,
      "outputs": [
        {
          "output_type": "stream",
          "name": "stdout",
          "text": [
            "輸入第一個數字:5\n",
            "輸入運算符號:-\n",
            "輸入第二個數字:2\n",
            "3\n"
          ]
        }
      ]
    }
  ]
}