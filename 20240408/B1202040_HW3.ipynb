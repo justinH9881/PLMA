{
  "nbformat": 4,
  "nbformat_minor": 0,
  "metadata": {
    "colab": {
      "provenance": []
    },
    "kernelspec": {
      "name": "python3",
      "display_name": "Python 3"
    },
    "language_info": {
      "name": "python"
    }
  },
  "cells": [
    {
      "cell_type": "code",
      "execution_count": null,
      "metadata": {
        "colab": {
          "base_uri": "https://localhost:8080/"
        },
        "id": "9sTrZTzhouvW",
        "outputId": "5df45773-3848-4195-deef-3d7060a18dcb"
      },
      "outputs": [
        {
          "output_type": "stream",
          "name": "stdout",
          "text": [
            "輸入年份:200\n",
            "閏年\n"
          ]
        }
      ],
      "source": [
        "a = int(input(\"輸入年份:\"))\n",
        "\n",
        "if a > 1582:\n",
        "  if (a%400) == 0:\n",
        "    print('閏年')\n",
        "  elif (a%100) == 0:\n",
        "    print('平年')\n",
        "  elif (a%4) == 0:\n",
        "    print('閏年')\n",
        "  else:\n",
        "    print('平年')\n",
        "\n",
        "elif a <= 1582:\n",
        "  if (a%4) != 0:\n",
        "    print('平年')\n",
        "  else:\n",
        "    print('閏年')"
      ]
    },
    {
      "cell_type": "code",
      "source": [
        "a = int(input(\"輸入年份:\"))\n",
        "\n",
        "if a > 1582:\n",
        "  if (a%400) == 0:\n",
        "    print('閏年')\n",
        "  elif (a%100) == 0:\n",
        "    print('平年')\n",
        "  elif (a%4) == 0:\n",
        "    print('閏年')\n",
        "  else:\n",
        "    print('平年')\n",
        "\n",
        "elif a <= 1582:\n",
        "  if (a%4) != 0:\n",
        "    print('平年')\n",
        "  else:\n",
        "    print('閏年')"
      ],
      "metadata": {
        "colab": {
          "base_uri": "https://localhost:8080/"
        },
        "id": "w9v8ZReZtolE",
        "outputId": "5f7650f1-c833-49db-c9b7-ecd71d2e7cd1"
      },
      "execution_count": 1,
      "outputs": [
        {
          "output_type": "stream",
          "name": "stdout",
          "text": [
            "輸入年份:2100\n",
            "平年\n"
          ]
        }
      ]
    }
  ]
}