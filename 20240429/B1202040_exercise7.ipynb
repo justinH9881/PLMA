{
  "nbformat": 4,
  "nbformat_minor": 0,
  "metadata": {
    "colab": {
      "provenance": []
    },
    "kernelspec": {
      "name": "python3",
      "display_name": "Python 3"
    },
    "language_info": {
      "name": "python"
    }
  },
  "cells": [
    {
      "cell_type": "code",
      "source": [
        "x = int(input('聖誕樹層數：'))\n",
        "star = \"*\"\n",
        "for a in range(1,x+1):\n",
        "  print((x-a)*' ',end='')\n",
        "  b = (2*a-1)*star\n",
        "  print(b)\n",
        "\n",
        "for c in range(1,6):\n",
        "  print((x-2)*' ',end='')\n",
        "  d = 3*star\n",
        "  print(d)"
      ],
      "metadata": {
        "colab": {
          "base_uri": "https://localhost:8080/"
        },
        "id": "1pB34UO6xJ9i",
        "outputId": "4995dcd5-b1a3-413b-dd9a-adc49a36829b"
      },
      "execution_count": 23,
      "outputs": [
        {
          "output_type": "stream",
          "name": "stdout",
          "text": [
            "聖誕樹層數：10\n",
            "         *\n",
            "        ***\n",
            "       *****\n",
            "      *******\n",
            "     *********\n",
            "    ***********\n",
            "   *************\n",
            "  ***************\n",
            " *****************\n",
            "*******************\n",
            "        ***\n",
            "        ***\n",
            "        ***\n",
            "        ***\n",
            "        ***\n"
          ]
        }
      ]
    },
    {
      "cell_type": "code",
      "source": [
        "def caculate(x,y):\n",
        "  x /= 100\n",
        "  x *= x\n",
        "  BMI = y/x\n",
        "try:\n",
        "  h=float(input(\"輸入身高(cm)：\"))\n",
        "  w=float(input(\"輸入體重(kg)：\"))\n",
        "  caculate(h,w)\n",
        "\n",
        "  if BMI >= 27:\n",
        "    result = ('肥胖')\n",
        "  elif BMI >= 24:\n",
        "    result = ('過重')\n",
        "  elif BMI >=18.5:\n",
        "    result = ('適中')\n",
        "  else:\n",
        "    result = ('過輕')\n",
        "  print(\"BMI:\",BMI,\"\")\n",
        "  print(result)\n",
        "except:\n",
        "  print('輸入內容錯誤')"
      ],
      "metadata": {
        "colab": {
          "base_uri": "https://localhost:8080/"
        },
        "id": "PciqkXKp5CjO",
        "outputId": "f80ee91c-07fb-4f58-c066-b4ade0493403"
      },
      "execution_count": 59,
      "outputs": [
        {
          "output_type": "stream",
          "name": "stdout",
          "text": [
            "輸入身高(cm)：165\n",
            "輸入體重(kg)：55\n",
            "BMI: 20.202020202020204 \n",
            "適中\n"
          ]
        }
      ]
    }
  ]
}