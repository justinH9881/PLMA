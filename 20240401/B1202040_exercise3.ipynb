{
  "nbformat": 4,
  "nbformat_minor": 0,
  "metadata": {
    "colab": {
      "provenance": []
    },
    "kernelspec": {
      "name": "python3",
      "display_name": "Python 3"
    },
    "language_info": {
      "name": "python"
    }
  },
  "cells": [
    {
      "cell_type": "code",
      "execution_count": 8,
      "metadata": {
        "id": "7tlNyNbWeCzT",
        "colab": {
          "base_uri": "https://localhost:8080/"
        },
        "outputId": "5bac856d-6a1b-47a8-b931-a3f993eac290"
      },
      "outputs": [
        {
          "output_type": "stream",
          "name": "stdout",
          "text": [
            "88.33333333333333\n",
            "{'姓名': '賴宏瑋', '性別': '男', '學號': 'M1129020'}\n",
            "95.0\n",
            "{'姓名': '許珈綺', '性別': '女', '學號': 'M1229001'}\n"
          ]
        }
      ],
      "source": [
        "import copy\n",
        "a = {'姓名':'賴宏瑋','性別':'男','作業分數':[95,100,90]}\n",
        "b = {'學號':'M1129020'}\n",
        "a.update(b)\n",
        "c = copy.deepcopy(a)\n",
        "a['作業分數'][1] = 80\n",
        "c['姓名'] = '許珈綺'\n",
        "c['性別'] = '女'\n",
        "c['學號'] = 'M1229001'\n",
        "d = a.pop('作業分數')\n",
        "print((d[0]+d[1]+d[2])/3)\n",
        "print(a)\n",
        "e = c.pop('作業分數')\n",
        "print((e[0]+e[1]+e[2])/3)\n",
        "print(c)"
      ]
    },
    {
      "cell_type": "code",
      "source": [
        "a = [100,50,45,60,90,95,80,50]\n",
        "a.insert(0,88)\n",
        "a[2:5] = [70,50]\n",
        "a.remove(50)\n",
        "b = a.pop(0)\n",
        "c = a.pop(-1)\n",
        "print((b+c)/2)"
      ],
      "metadata": {
        "colab": {
          "base_uri": "https://localhost:8080/"
        },
        "id": "E9eXuPmZiY6R",
        "outputId": "14ec0810-1b8d-48cc-9991-5b0c2ae2d0da"
      },
      "execution_count": 21,
      "outputs": [
        {
          "output_type": "stream",
          "name": "stdout",
          "text": [
            "69.0\n"
          ]
        }
      ]
    },
    {
      "cell_type": "code",
      "source": [
        "\n",
        "a = 347//3\n",
        "b = 347%3\n",
        "print(a,b)\n",
        "print(a**b)"
      ],
      "metadata": {
        "colab": {
          "base_uri": "https://localhost:8080/"
        },
        "id": "F-u-Rt11lxPn",
        "outputId": "b882d907-4cbf-47b8-d700-a84ea8d844b5"
      },
      "execution_count": 30,
      "outputs": [
        {
          "output_type": "stream",
          "name": "stdout",
          "text": [
            "115 2\n",
            "13225\n"
          ]
        }
      ]
    }
  ]
}