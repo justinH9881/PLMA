{
  "nbformat": 4,
  "nbformat_minor": 0,
  "metadata": {
    "colab": {
      "provenance": []
    },
    "kernelspec": {
      "name": "python3",
      "display_name": "Python 3"
    },
    "language_info": {
      "name": "python"
    }
  },
  "cells": [
    {
      "cell_type": "code",
      "execution_count": 1,
      "metadata": {
        "colab": {
          "base_uri": "https://localhost:8080/"
        },
        "id": "rVjsogGvD4AX",
        "outputId": "99107f5c-010d-4483-a964-62b582463a66"
      },
      "outputs": [
        {
          "output_type": "stream",
          "name": "stdout",
          "text": [
            "I'm a student.\n"
          ]
        }
      ],
      "source": [
        "print(\"I'm a student.\")"
      ]
    },
    {
      "cell_type": "code",
      "source": [
        "x1=float(input(\"輸入x1：\"))\n",
        "y1=float(input(\"輸入y1：\"))\n",
        "x2=float(input(\"輸入x2：\"))\n",
        "y2=float(input(\"輸入y2：\"))\n",
        "\n",
        "Dis=(((x1-x2)**2+(y1-y2)**2)**(1/2))\n",
        "\n",
        "print(\"距離 = \",Dis,\"\")"
      ],
      "metadata": {
        "colab": {
          "base_uri": "https://localhost:8080/"
        },
        "id": "qHHE-YWjEKTS",
        "outputId": "a38d1608-7efb-40ea-d85e-a736b77e4e80"
      },
      "execution_count": 68,
      "outputs": [
        {
          "output_type": "stream",
          "name": "stdout",
          "text": [
            "輸入x1：1.5\n",
            "輸入y1：2.5\n",
            "輸入x2：3.5\n",
            "輸入y2：4.5\n",
            "距離 =  2.8284271247461903 \n"
          ]
        }
      ]
    },
    {
      "cell_type": "code",
      "source": [
        "h=float(input(\"輸入身高(cm)：\"))\n",
        "w=float(input(\"輸入體重(kg)：\"))\n",
        "\n",
        "h/=100\n",
        "h*=h\n",
        "\n",
        "BMI=w/h\n",
        "print(\"BMI = \",BMI,\"\")"
      ],
      "metadata": {
        "colab": {
          "base_uri": "https://localhost:8080/"
        },
        "id": "XywbJgr7PkRo",
        "outputId": "0788ba27-952d-45db-a94d-512b66166790"
      },
      "execution_count": 77,
      "outputs": [
        {
          "output_type": "stream",
          "name": "stdout",
          "text": [
            "輸入身高(cm)：174.4\n",
            "輸入體重(kg)：65.5\n",
            "BMI =  21.53517170271863 \n"
          ]
        }
      ]
    }
  ]
}